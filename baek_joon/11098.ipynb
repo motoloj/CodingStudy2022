{
 "cells": [
  {
   "cell_type": "code",
   "execution_count": null,
   "metadata": {},
   "outputs": [],
   "source": [
    "# 2022 02 12_2\n",
    "\n",
    "test_num = int(input())\n",
    "for _ in range(test_num):\n",
    "    price_list = []\n",
    "    player_list = []\n",
    "\n",
    "    player_num = int(input())\n",
    "    for _ in range(player_num):\n",
    "        price, name = input().split(\" \")\n",
    "        price_list.append(int(price))\n",
    "        player_list.append(name)\n",
    "        \n",
    "    #print(price_list) 테스트용\n",
    "    #print(player_list)\n",
    "    print(player_list[price_list.index(max(price_list))])"
   ]
  }
 ],
 "metadata": {
  "language_info": {
   "name": "python"
  },
  "orig_nbformat": 4
 },
 "nbformat": 4,
 "nbformat_minor": 2
}
