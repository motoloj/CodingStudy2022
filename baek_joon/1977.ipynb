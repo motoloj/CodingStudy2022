{
 "cells": [
  {
   "cell_type": "code",
   "execution_count": null,
   "metadata": {},
   "outputs": [],
   "source": [
    "# 2022 02 12\n",
    "m = int(input())\n",
    "n = int(input()) \n",
    "count = 0\n",
    "i = 1\n",
    "ans_list = []\n",
    "\n",
    "while count != -1:\n",
    "        \n",
    "    power_i = i**2\n",
    "    if power_i >= m and power_i <= n:\n",
    "        ans_list.append(power_i)\n",
    "        count += 1\n",
    "    elif power_i > n:\n",
    "        count = -1\n",
    "        \n",
    "    i += 1\n",
    "        \n",
    "if len(ans_list) == 0:\n",
    "    print(-1)\n",
    "else:\n",
    "    ans_sum = sum(ans_list)\n",
    "    ans_small = min(ans_list)\n",
    "    print(ans_sum)\n",
    "    print(ans_small)"
   ]
  },
  {
   "cell_type": "code",
   "execution_count": null,
   "metadata": {},
   "outputs": [],
   "source": []
  }
 ],
 "metadata": {
  "language_info": {
   "name": "python"
  },
  "orig_nbformat": 4
 },
 "nbformat": 4,
 "nbformat_minor": 2
}
