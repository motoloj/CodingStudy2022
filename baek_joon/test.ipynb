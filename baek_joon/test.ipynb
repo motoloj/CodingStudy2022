{
 "cells": [
  {
   "cell_type": "code",
   "execution_count": 6,
   "metadata": {},
   "outputs": [
    {
     "name": "stdout",
     "output_type": "stream",
     "text": [
      "UPPCPC\n",
      "I hate UCPC\n"
     ]
    }
   ],
   "source": [
    "s = list(input())\n",
    "nickname = ''\n",
    "check = ['U','C','P','C']\n",
    "for i in s:\n",
    "    if i.isupper() == True:\n",
    "        nickname += i\n",
    "for g in nickname:\n",
    "    if g not in check:\n",
    "        nickname.replace(g, \"\")\n",
    "print(nickname)\n",
    "if nickname == 'UCPC':\n",
    "    print('I love UCPC')\n",
    "else:\n",
    "    print('I hate UCPC')\n"
   ]
  },
  {
   "cell_type": "code",
   "execution_count": null,
   "metadata": {},
   "outputs": [],
   "source": [
    "# 그리디 방식\n",
    "S=list(input())\n",
    "count=0\n",
    "for i in S:\n",
    "    if i=='U' and count==0:\n",
    "        count=1\n",
    "    if i=='C' and count==1:\n",
    "        count=2\n",
    "    if i=='P' and count==2:\n",
    "        count=3\n",
    "    if i=='C' and count==3:\n",
    "        count=4\n",
    "        break\n",
    "if count==4:\n",
    "    print(\"I love UCPC\")\n",
    "else:\n",
    "    print('I hate UCPC')"
   ]
  }
 ],
 "metadata": {
  "interpreter": {
   "hash": "6fa23d8bc6613a6329873062e09b4366d5b062a6b15750884ff78f9be488ef33"
  },
  "kernelspec": {
   "display_name": "Python 3.7.7 ('base')",
   "language": "python",
   "name": "python3"
  },
  "language_info": {
   "codemirror_mode": {
    "name": "ipython",
    "version": 3
   },
   "file_extension": ".py",
   "mimetype": "text/x-python",
   "name": "python",
   "nbconvert_exporter": "python",
   "pygments_lexer": "ipython3",
   "version": "3.7.7"
  },
  "orig_nbformat": 4
 },
 "nbformat": 4,
 "nbformat_minor": 2
}
