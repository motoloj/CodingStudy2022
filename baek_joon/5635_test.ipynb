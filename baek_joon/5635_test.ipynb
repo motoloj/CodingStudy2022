{
 "cells": [
  {
   "cell_type": "code",
   "execution_count": 1,
   "metadata": {},
   "outputs": [
    {
     "name": "stdout",
     "output_type": "stream",
     "text": [
      "2020-01-02\n",
      "2020-01-01\n"
     ]
    }
   ],
   "source": [
    "# datetime 연습 # 2022-02-13_1\n",
    "from datetime import datetime\n",
    "day_1 = '2020-01-01'\n",
    "day_2 = '2020-01-02'\n",
    "\n",
    "day_3 = datetime.strptime(day_1,'%Y-%m-%d').date()\n",
    "day_4 = datetime.strptime(day_2,'%Y-%m-%d').date()\n",
    "\n",
    "day = []\n",
    "day.append(day_3)\n",
    "day.append(day_4)\n",
    "\n",
    "print(max(day))\n",
    "print(min(day))"
   ]
  },
  {
   "cell_type": "code",
   "execution_count": 5,
   "metadata": {},
   "outputs": [
    {
     "name": "stdout",
     "output_type": "stream",
     "text": [
      "[['Mickey', 1, 10, 1991]]\n",
      "[['Mickey', 1, 10, 1991], ['Alice', 30, 12, 1990]]\n",
      "[['Mickey', 1, 10, 1991], ['Alice', 30, 12, 1990], ['Tom', 15, 8, 1993]]\n",
      "[['Mickey', 1, 10, 1991], ['Alice', 30, 12, 1990], ['Tom', 15, 8, 1993], ['Jerry', 18, 9, 1990]]\n",
      "[['Mickey', 1, 10, 1991], ['Alice', 30, 12, 1990], ['Tom', 15, 8, 1993], ['Jerry', 18, 9, 1990], ['Garfield', 20, 9, 1990]]\n",
      "[['Jerry', 18, 9, 1990], ['Garfield', 20, 9, 1990], ['Alice', 30, 12, 1990], ['Mickey', 1, 10, 1991], ['Tom', 15, 8, 1993]]\n",
      "Tom\n",
      "Jerry\n"
     ]
    }
   ],
   "source": [
    "# 단순 정렬 정답\n",
    "li = []\n",
    "for _ in range(int(input())):\n",
    "    n, d, m, y = input().split()\n",
    "    li.append([n, int(d), int(m), int(y)])\n",
    "    print(li)\n",
    "li.sort(key=lambda x:(x[3],x[2],x[1]))\n",
    "print(li)\n",
    "print(li[-1][0])\n",
    "print(li[0][0])"
   ]
  }
 ],
 "metadata": {
  "interpreter": {
   "hash": "6fa23d8bc6613a6329873062e09b4366d5b062a6b15750884ff78f9be488ef33"
  },
  "kernelspec": {
   "display_name": "Python 3.7.7 ('base')",
   "language": "python",
   "name": "python3"
  },
  "language_info": {
   "codemirror_mode": {
    "name": "ipython",
    "version": 3
   },
   "file_extension": ".py",
   "mimetype": "text/x-python",
   "name": "python",
   "nbconvert_exporter": "python",
   "pygments_lexer": "ipython3",
   "version": "3.7.7"
  },
  "orig_nbformat": 4
 },
 "nbformat": 4,
 "nbformat_minor": 2
}
