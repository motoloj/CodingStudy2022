{
 "cells": [
  {
   "cell_type": "code",
   "execution_count": 32,
   "metadata": {},
   "outputs": [],
   "source": [
    "a = [(15,4),(15,1),(3,4),(1,2)]"
   ]
  },
  {
   "cell_type": "code",
   "execution_count": 33,
   "metadata": {},
   "outputs": [
    {
     "data": {
      "text/plain": [
       "[(1, 2), (3, 4), (15, 4), (15, 1)]"
      ]
     },
     "execution_count": 33,
     "metadata": {},
     "output_type": "execute_result"
    }
   ],
   "source": [
    "b = sorted(a, key= lambda x: x[0])\n",
    "b"
   ]
  },
  {
   "cell_type": "code",
   "execution_count": 34,
   "metadata": {},
   "outputs": [
    {
     "data": {
      "text/plain": [
       "[(15, 1), (1, 2), (3, 4), (15, 4)]"
      ]
     },
     "execution_count": 34,
     "metadata": {},
     "output_type": "execute_result"
    }
   ],
   "source": [
    "sorted(b, key= lambda x: x[1])"
   ]
  },
  {
   "cell_type": "code",
   "execution_count": 35,
   "metadata": {},
   "outputs": [
    {
     "data": {
      "text/plain": [
       "[(15, 1), (1, 2), (3, 4), (15, 4)]"
      ]
     },
     "execution_count": 35,
     "metadata": {},
     "output_type": "execute_result"
    }
   ],
   "source": [
    "c = sorted(a, key= lambda x: x[0])\n",
    "c =  sorted(c, key= lambda x: x[1])\n",
    "c"
   ]
  },
  {
   "cell_type": "code",
   "execution_count": 37,
   "metadata": {},
   "outputs": [
    {
     "name": "stdout",
     "output_type": "stream",
     "text": [
      "[[0, 6], [1, 4], [2, 13], [3, 5], [3, 8], [5, 7], [5, 9], [6, 10], [8, 11], [8, 12], [12, 14]]\n",
      "[[1, 4], [3, 5], [0, 6], [5, 7], [3, 8], [5, 9], [6, 10], [8, 11], [8, 12], [2, 13], [12, 14]]\n",
      "4\n"
     ]
    }
   ],
   "source": [
    "N = int(input())\n",
    "time = []\n",
    "\n",
    "for _ in range(N):\n",
    "  start, end = map(int, input().split())\n",
    "  time.append([start, end])\n",
    "\n",
    "time = sorted(time, key=lambda a: a[0]) # 시작 시간을 기준으로 오름차순\n",
    "print(time)\n",
    "time = sorted(time, key=lambda a: a[1]) # 끝나는 시간을 기준으로 다시 오름차순\n",
    "print(time)\n",
    "\n",
    "last = 0 # 회의의 마지막 시간을 저장할 변수\n",
    "conut = 0 # 회의 개수를 저장할 변수\n",
    "\n",
    "for i, j in time:\n",
    "  if i >= last: # 시작시간이 회의의 마지막 시간보다 크거나 같을경우\n",
    "    conut += 1\n",
    "    last = j\n",
    "\n",
    "print(conut)"
   ]
  },
  {
   "cell_type": "code",
   "execution_count": null,
   "metadata": {},
   "outputs": [],
   "source": [
    "[(1 4),(3 5),(0 6),(5 7),(3 8),(5 9),(6 10),(8 11),(8 12),(2 13),(12 14)] # 원본"
   ]
  },
  {
   "cell_type": "code",
   "execution_count": 31,
   "metadata": {},
   "outputs": [
    {
     "name": "stdout",
     "output_type": "stream",
     "text": [
      "[[0, 6], [1, 4], [2, 13], [3, 5], [3, 8], [5, 7], [5, 9], [6, 10], [8, 11], [8, 12], [12, 14]]\n"
     ]
    }
   ],
   "source": [
    "import sys\n",
    "\n",
    "n = int(input()) # 쥬피터에서는 stdin사용불가, 파이썬 쉘이용 권장\n",
    "time_list = []\n",
    "for i in range(n):\n",
    "    time_list.append(list(map(int, input().split())))\n",
    "time_list.sort(key = lambda x : (x[0], x[1])) # =>>>>>>>>>>>>>>>>>>>>>>>>>>>>> 정렬결과 안같다, 어떤걸 먼저 하든\n",
    "print(time_list) # 쥬피터내에서는 print로 써야 한줄로 출력 (프린트 옵션 sep=''=>공백, 그냥 프린트 없이 변수 출력 할 경우 한줄씩 띄어서 출력)"
   ]
  },
  {
   "cell_type": "code",
   "execution_count": null,
   "metadata": {},
   "outputs": [
    {
     "name": "stdout",
     "output_type": "stream",
     "text": [
      "[[1, 4], [3, 5], [0, 6], [5, 7], [3, 8], [5, 9], [6, 10], [8, 11], [8, 12], [2, 13], [12, 14]]\n"
     ]
    }
   ],
   "source": [
    "import sys\n",
    "\n",
    "n = int(input()) # 쥬피터에서는 stdin사용불가, 파이썬 쉘이용 권장\n",
    "time_list = []\n",
    "for i in range(n):\n",
    "    time_list.append(list(map(int, input().split())))\n",
    "time_list.sort(key = lambda x : (x[1], x[0]))\n",
    "print(time_list)"
   ]
  },
  {
   "cell_type": "code",
   "execution_count": 46,
   "metadata": {},
   "outputs": [
    {
     "name": "stdout",
     "output_type": "stream",
     "text": [
      "[[8, 12], [8, 11], [0, 6], [5, 7], [5, 9], [1, 4], [12, 14], [3, 8], [2, 13], [3, 5], [6, 10]]\n"
     ]
    }
   ],
   "source": [
    "import random\n",
    "test = [[1, 4], [3, 5], [0, 6], [5, 7], [3, 8], [5, 9], [6, 10], [8, 11], [8, 12], [2, 13], [12, 14]]\n",
    "random.shuffle(test) # 원본이 변경되는 것이기 때문에 변수에 저장 X\n",
    "print(test)"
   ]
  },
  {
   "cell_type": "code",
   "execution_count": 44,
   "metadata": {},
   "outputs": [
    {
     "name": "stdout",
     "output_type": "stream",
     "text": [
      "None\n"
     ]
    }
   ],
   "source": [
    "a= [1,4,5,0]\n",
    "print(a.sort()) # => 원본에 영향주는 형태는 변수에 저장 X"
   ]
  },
  {
   "cell_type": "code",
   "execution_count": 48,
   "metadata": {},
   "outputs": [
    {
     "name": "stdout",
     "output_type": "stream",
     "text": [
      "[[1, 4], [3, 5], [0, 6], [5, 7], [3, 8], [5, 9], [6, 10], [8, 11], [8, 12], [2, 13], [12, 14]]\n"
     ]
    }
   ],
   "source": [
    "print(sorted(test, key = lambda x : (x[1], x[0]))) #[[8, 12], [8, 11], [0, 6], [5, 7], [5, 9], [1, 4], [12, 14], [3, 8], [2, 13], [3, 5], [6, 10]]\n",
    "# 리스트 두번째 요소 순으로 정리후 -> 이 정리를 바탕으로 첫번째 요소 크기순으로 정리 // 디폴트는 오름차순, -x[0]같이 앞에\"-\"가 붙으면 내림차순이다."
   ]
  },
  {
   "cell_type": "code",
   "execution_count": 49,
   "metadata": {},
   "outputs": [
    {
     "name": "stdout",
     "output_type": "stream",
     "text": [
      "[[0, 6], [1, 4], [2, 13], [3, 5], [3, 8], [5, 7], [5, 9], [6, 10], [8, 11], [8, 12], [12, 14]]\n"
     ]
    }
   ],
   "source": [
    "print(sorted(test, key = lambda x : (x[0], x[1])))\n",
    "# 리스트 첫번째 요소 순으로 정리후 -> 이 정리를 바탕으로 두번째 요소 크기순으로 정리"
   ]
  },
  {
   "cell_type": "code",
   "execution_count": 51,
   "metadata": {},
   "outputs": [
    {
     "name": "stdout",
     "output_type": "stream",
     "text": [
      "[[0, 6], [1, 4], [2, 13], [3, 8], [3, 5], [5, 7], [5, 9], [6, 10], [8, 12], [8, 11], [12, 14]]\n"
     ]
    }
   ],
   "source": [
    "k = sorted(test, key = lambda x : x[0]) #[[8, 12], [8, 11], [0, 6], [5, 7], [5, 9], [1, 4], [12, 14], [3, 8], [2, 13], [3, 5], [6, 10]]\n",
    "print(k)\n",
    "# 단순히 첫번째요소만으로 정리"
   ]
  },
  {
   "cell_type": "code",
   "execution_count": 53,
   "metadata": {},
   "outputs": [
    {
     "name": "stdout",
     "output_type": "stream",
     "text": [
      "[[1, 4], [3, 5], [0, 6], [5, 7], [3, 8], [5, 9], [6, 10], [8, 11], [8, 12], [2, 13], [12, 14]]\n"
     ]
    }
   ],
   "source": [
    "g = sorted(k, key = lambda x : x[1])\n",
    "print(g)"
   ]
  },
  {
   "cell_type": "code",
   "execution_count": 54,
   "metadata": {},
   "outputs": [
    {
     "name": "stdout",
     "output_type": "stream",
     "text": [
      "[[1, 4], [3, 5], [0, 6], [5, 7], [3, 8], [5, 9], [6, 10], [8, 11], [8, 12], [2, 13], [12, 14]]\n"
     ]
    }
   ],
   "source": [
    "f = sorted(test, key = lambda x : x[1])\n",
    "print(f) \n",
    "# 단순히 두번째 요소만으로 정리"
   ]
  },
  {
   "cell_type": "code",
   "execution_count": 55,
   "metadata": {},
   "outputs": [
    {
     "name": "stdout",
     "output_type": "stream",
     "text": [
      "[[0, 6], [1, 4], [2, 13], [3, 5], [3, 8], [5, 7], [5, 9], [6, 10], [8, 11], [8, 12], [12, 14]]\n"
     ]
    }
   ],
   "source": [
    "g = sorted(f, key = lambda x : x[0])\n",
    "print(g)"
   ]
  },
  {
   "cell_type": "code",
   "execution_count": 56,
   "metadata": {},
   "outputs": [
    {
     "name": "stdout",
     "output_type": "stream",
     "text": [
      "[[0, 6], [1, 4], [2, 13], [3, 5], [3, 8], [5, 7], [5, 9], [6, 10], [8, 11], [8, 12], [12, 14]]\n"
     ]
    }
   ],
   "source": [
    "x = sorted(test)\n",
    "print(x)"
   ]
  },
  {
   "cell_type": "code",
   "execution_count": null,
   "metadata": {},
   "outputs": [],
   "source": []
  }
 ],
 "metadata": {
  "interpreter": {
   "hash": "6fa23d8bc6613a6329873062e09b4366d5b062a6b15750884ff78f9be488ef33"
  },
  "kernelspec": {
   "display_name": "Python 3.7.7 ('base')",
   "language": "python",
   "name": "python3"
  },
  "language_info": {
   "codemirror_mode": {
    "name": "ipython",
    "version": 3
   },
   "file_extension": ".py",
   "mimetype": "text/x-python",
   "name": "python",
   "nbconvert_exporter": "python",
   "pygments_lexer": "ipython3",
   "version": "3.7.7"
  },
  "orig_nbformat": 4
 },
 "nbformat": 4,
 "nbformat_minor": 2
}
